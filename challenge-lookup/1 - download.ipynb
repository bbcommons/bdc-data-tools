{
 "cells": [
  {
   "attachments": {},
   "cell_type": "markdown",
   "metadata": {},
   "source": [
    "# Step 1\n",
    "\n",
    "## Setup"
   ]
  },
  {
   "cell_type": "code",
   "execution_count": null,
   "metadata": {},
   "outputs": [],
   "source": [
    "!pip install -r requirements.txt --quiet\n",
    "%load_ext nb_black"
   ]
  },
  {
   "cell_type": "markdown",
   "metadata": {},
   "source": [
    "## Imports"
   ]
  },
  {
   "cell_type": "code",
   "execution_count": null,
   "metadata": {},
   "outputs": [],
   "source": [
    "import requests"
   ]
  },
  {
   "attachments": {},
   "cell_type": "markdown",
   "metadata": {},
   "source": [
    "## Download Challenges\n",
    "\n",
    "Download the file from Box.\n",
    "\n",
    "Current URL: [Here](https://us-fcc.app.box.com/v/Fabric-V2-Changes/folder/189442227467)\n",
    "\n",
    "Put it into the folder with this code to be processed later."
   ]
  },
  {
   "attachments": {},
   "cell_type": "markdown",
   "metadata": {},
   "source": [
    "## Download LocationID Lookup\n",
    "\n",
    "Download precomputed LocationID Lookup data from this awesome dude: https://github.com/npappin/bslTools"
   ]
  },
  {
   "cell_type": "code",
   "execution_count": null,
   "metadata": {},
   "outputs": [],
   "source": [
    "r = requests.get('https://pub-96372591292d4fdca85ff0f6db6c67c2.r2.dev/bslTools/20230330/national/bslsLookup.parquet')\n",
    "open('locationIdLookup.parquet', 'wb').write(r.content)"
   ]
  }
 ],
 "metadata": {
  "kernelspec": {
   "display_name": "venv",
   "language": "python",
   "name": "python3"
  },
  "language_info": {
   "codemirror_mode": {
    "name": "ipython",
    "version": 3
   },
   "file_extension": ".py",
   "mimetype": "text/x-python",
   "name": "python",
   "nbconvert_exporter": "python",
   "pygments_lexer": "ipython3",
   "version": "3.10.10"
  },
  "orig_nbformat": 4,
  "vscode": {
   "interpreter": {
    "hash": "aa2a99c295ee4272a6e0b6b951a3d7cd52dad42a664ae771f47e4580e63d3ec4"
   }
  }
 },
 "nbformat": 4,
 "nbformat_minor": 2
}
